{
  "nbformat": 4,
  "nbformat_minor": 0,
  "metadata": {
    "colab": {
      "name": "Flower Classification.ipynb",
      "version": "0.3.2",
      "provenance": [],
      "collapsed_sections": [],
      "include_colab_link": true
    },
    "kernelspec": {
      "name": "python3",
      "display_name": "Python 3"
    },
    "accelerator": "GPU"
  },
  "cells": [
    {
      "cell_type": "markdown",
      "metadata": {
        "id": "view-in-github",
        "colab_type": "text"
      },
      "source": [
        "<a href=\"https://colab.research.google.com/github/Garvit-k/flower-classifier/blob/master/Flower_Classification.ipynb\" target=\"_parent\"><img src=\"https://colab.research.google.com/assets/colab-badge.svg\" alt=\"Open In Colab\"/></a>"
      ]
    },
    {
      "metadata": {
        "id": "6tub8C8BEdTH",
        "colab_type": "code",
        "colab": {
          "base_uri": "https://localhost:8080/",
          "height": 35
        },
        "outputId": "897fcc8b-8e10-4560-a43b-6ab852cd1fab"
      },
      "cell_type": "code",
      "source": [
        "#loading data from drive\n",
        "from google.colab import drive\n",
        "drive.mount('dataset')"
      ],
      "execution_count": 2,
      "outputs": [
        {
          "output_type": "stream",
          "text": [
            "Mounted at dataset\n"
          ],
          "name": "stdout"
        }
      ]
    },
    {
      "metadata": {
        "id": "YTz7A4D8FGDD",
        "colab_type": "code",
        "colab": {
          "base_uri": "https://localhost:8080/",
          "height": 35
        },
        "outputId": "d533ee0c-5d14-4158-88cd-289ac30ea227"
      },
      "cell_type": "code",
      "source": [
        "ls -A"
      ],
      "execution_count": 3,
      "outputs": [
        {
          "output_type": "stream",
          "text": [
            "\u001b[0m\u001b[01;34m.config\u001b[0m/  \u001b[01;34mdataset\u001b[0m/  \u001b[01;34msample_data\u001b[0m/\n"
          ],
          "name": "stdout"
        }
      ]
    },
    {
      "metadata": {
        "id": "iRo90eIXHF58",
        "colab_type": "code",
        "colab": {}
      },
      "cell_type": "code",
      "source": [
        "#import nessarary libraries\n",
        "import tensorflow as tf\n",
        "from tensorflow import keras\n",
        "from keras.models import load_model\n",
        "\n",
        "import matplotlib.pyplot as plt\n",
        "import numpy as np\n",
        "import os\n",
        "import cv2\n",
        "import pandas\n",
        "import os\n",
        "import random\n",
        "from tqdm import tqdm"
      ],
      "execution_count": 0,
      "outputs": []
    },
    {
      "metadata": {
        "id": "W7W9O4OLHHG7",
        "colab_type": "code",
        "colab": {
          "base_uri": "https://localhost:8080/",
          "height": 35
        },
        "outputId": "1e9fffb4-a4ab-41b5-881d-09ec1ba2dea6"
      },
      "cell_type": "code",
      "source": [
        "path = 'dataset/My Drive/Dataset/flowers'\n",
        "folders = os.listdir(path)\n",
        "print(folders)"
      ],
      "execution_count": 12,
      "outputs": [
        {
          "output_type": "stream",
          "text": [
            "['daisy', 'dandelion', 'sunflower', 'tulip', 'rose']\n"
          ],
          "name": "stdout"
        }
      ]
    },
    {
      "metadata": {
        "id": "lhohDqo7H4DY",
        "colab_type": "code",
        "colab": {}
      },
      "cell_type": "code",
      "source": [
        "image_names =[]\n",
        "train_lables =[]\n",
        "train_images =[]"
      ],
      "execution_count": 0,
      "outputs": []
    },
    {
      "metadata": {
        "id": "OS3_Y3bVIgx5",
        "colab_type": "code",
        "colab": {
          "base_uri": "https://localhost:8080/",
          "height": 128
        },
        "outputId": "4bdcd97f-d771-4c07-f02a-2996956973ca"
      },
      "cell_type": "code",
      "source": [
        "# resizing and enumrating lists and transform it into numpy array\n",
        "\n",
        "size = 64,64\n",
        "\n",
        "for folder in folders:\n",
        "  print(folder)\n",
        "  for file in os.listdir(os.path.join(path,folder)):\n",
        "    if file.endswith('jpg'):\n",
        "      image_names.append(os.path.join(path,folder,file))\n",
        "      train_lables.append(folder)\n",
        "      img = cv2.imread(os.path.join(path,folder,file))\n",
        "      img = cv2.resize(img,size)\n",
        "      train_images.append(img)\n",
        "    else:\n",
        "      continue\n",
        "      \n",
        "train = np.array(train_images)\n",
        "print(train.size)"
      ],
      "execution_count": 22,
      "outputs": [
        {
          "output_type": "stream",
          "text": [
            "daisy\n",
            "dandelion\n",
            "sunflower\n",
            "tulip\n",
            "rose\n",
            "53231616\n"
          ],
          "name": "stdout"
        }
      ]
    },
    {
      "metadata": {
        "id": "wWTopktvLP_0",
        "colab_type": "code",
        "colab": {}
      },
      "cell_type": "code",
      "source": [
        "train = train.astype('float32') / 255.0\n",
        "\n",
        "# extract lables\n",
        "label_dummies = pandas.get_dummies(train_lables)\n",
        "labels =  label_dummies.values.argmax(1)"
      ],
      "execution_count": 0,
      "outputs": []
    },
    {
      "metadata": {
        "id": "umiIcrexQItK",
        "colab_type": "code",
        "colab": {
          "base_uri": "https://localhost:8080/",
          "height": 54
        },
        "outputId": "5409f318-230f-46da-e177-a333573459d4"
      },
      "cell_type": "code",
      "source": [
        "print(pandas.unique(train_lables))\n",
        "print(pandas.unique(labels))"
      ],
      "execution_count": 26,
      "outputs": [
        {
          "output_type": "stream",
          "text": [
            "['daisy' 'dandelion' 'sunflower' 'tulip' 'rose']\n",
            "[0 1 3 4 2]\n"
          ],
          "name": "stdout"
        }
      ]
    },
    {
      "metadata": {
        "id": "Oqqq9lOUQXlI",
        "colab_type": "code",
        "colab": {}
      },
      "cell_type": "code",
      "source": [
        "# Shuffle the labels and images randomly for better results\n",
        "\n",
        "union_list = list(zip(train, labels))\n",
        "random.shuffle(union_list)\n",
        "train,labels = zip(*union_list)"
      ],
      "execution_count": 0,
      "outputs": []
    },
    {
      "metadata": {
        "id": "z357QmP8XLiH",
        "colab_type": "code",
        "colab": {}
      },
      "cell_type": "code",
      "source": [
        "# Convert the shuffled list to numpy array type\n",
        "train = np.array(train)\n",
        "labels = np.array(labels)"
      ],
      "execution_count": 0,
      "outputs": []
    },
    {
      "metadata": {
        "id": "whpxJXvAXPsL",
        "colab_type": "code",
        "colab": {
          "base_uri": "https://localhost:8080/",
          "height": 92
        },
        "outputId": "508b2747-4d57-410c-ab67-c86decbcb141"
      },
      "cell_type": "code",
      "source": [
        "# Building a model\n",
        "model = keras.Sequential([\n",
        "    keras.layers.Flatten(input_shape = (64,64,3)),\n",
        "    keras.layers.Dense(128,activation = tf.nn.tanh),\n",
        "    keras.layers.Dense(5,activation = tf.nn.softmax)\n",
        "])"
      ],
      "execution_count": 30,
      "outputs": [
        {
          "output_type": "stream",
          "text": [
            "WARNING:tensorflow:From /usr/local/lib/python3.6/dist-packages/tensorflow/python/ops/resource_variable_ops.py:435: colocate_with (from tensorflow.python.framework.ops) is deprecated and will be removed in a future version.\n",
            "Instructions for updating:\n",
            "Colocations handled automatically by placer.\n"
          ],
          "name": "stdout"
        }
      ]
    },
    {
      "metadata": {
        "id": "PTfX4sgkYYPP",
        "colab_type": "code",
        "colab": {}
      },
      "cell_type": "code",
      "source": [
        "# model parameters\n",
        "model.compile(optimizer = keras.optimizers.Adam(lr=0.001, beta_1=0.9, beta_2=0.999, epsilon=None, decay=0.0, amsgrad=False),\n",
        "              loss = 'sparse_categorical_crossentropy',\n",
        "              metrics = ['accuracy']\n",
        ")"
      ],
      "execution_count": 0,
      "outputs": []
    },
    {
      "metadata": {
        "id": "oAqOLgB-ZCxb",
        "colab_type": "code",
        "colab": {
          "base_uri": "https://localhost:8080/",
          "height": 2990
        },
        "outputId": "b3a51bcb-0834-4596-86e4-8d113803d197"
      },
      "cell_type": "code",
      "source": [
        "model.fit(train,labels,epochs = 80)"
      ],
      "execution_count": 38,
      "outputs": [
        {
          "output_type": "stream",
          "text": [
            "Epoch 1/80\n",
            "4332/4332 [==============================] - 1s 151us/sample - loss: 0.2266 - acc: 0.9384\n",
            "Epoch 2/80\n",
            "4332/4332 [==============================] - 1s 132us/sample - loss: 0.2070 - acc: 0.9485\n",
            "Epoch 3/80\n",
            "4332/4332 [==============================] - 1s 137us/sample - loss: 0.2058 - acc: 0.9511\n",
            "Epoch 4/80\n",
            "4332/4332 [==============================] - 1s 134us/sample - loss: 0.1926 - acc: 0.9545\n",
            "Epoch 5/80\n",
            "4332/4332 [==============================] - 1s 124us/sample - loss: 0.2104 - acc: 0.9430\n",
            "Epoch 6/80\n",
            "4332/4332 [==============================] - 1s 130us/sample - loss: 0.2038 - acc: 0.9446\n",
            "Epoch 7/80\n",
            "4332/4332 [==============================] - 1s 133us/sample - loss: 0.1692 - acc: 0.9640\n",
            "Epoch 8/80\n",
            "4332/4332 [==============================] - 1s 129us/sample - loss: 0.1757 - acc: 0.9582\n",
            "Epoch 9/80\n",
            "4332/4332 [==============================] - 1s 127us/sample - loss: 0.1914 - acc: 0.9513\n",
            "Epoch 10/80\n",
            "4332/4332 [==============================] - 1s 129us/sample - loss: 0.1697 - acc: 0.9598\n",
            "Epoch 11/80\n",
            "4332/4332 [==============================] - 1s 131us/sample - loss: 0.1577 - acc: 0.9635\n",
            "Epoch 12/80\n",
            "4332/4332 [==============================] - 1s 130us/sample - loss: 0.1547 - acc: 0.9651\n",
            "Epoch 13/80\n",
            "4332/4332 [==============================] - 1s 127us/sample - loss: 0.1563 - acc: 0.9635\n",
            "Epoch 14/80\n",
            "4332/4332 [==============================] - 1s 128us/sample - loss: 0.1328 - acc: 0.9771\n",
            "Epoch 15/80\n",
            "4332/4332 [==============================] - 1s 135us/sample - loss: 0.1919 - acc: 0.9430\n",
            "Epoch 16/80\n",
            "4332/4332 [==============================] - 1s 126us/sample - loss: 0.1332 - acc: 0.9700\n",
            "Epoch 17/80\n",
            "4332/4332 [==============================] - 1s 126us/sample - loss: 0.1512 - acc: 0.9617\n",
            "Epoch 18/80\n",
            "4332/4332 [==============================] - 1s 126us/sample - loss: 0.1490 - acc: 0.9656\n",
            "Epoch 19/80\n",
            "4332/4332 [==============================] - 1s 133us/sample - loss: 0.1144 - acc: 0.9783\n",
            "Epoch 20/80\n",
            "4332/4332 [==============================] - 1s 132us/sample - loss: 0.1303 - acc: 0.9721\n",
            "Epoch 21/80\n",
            "4332/4332 [==============================] - 1s 128us/sample - loss: 0.1255 - acc: 0.9693\n",
            "Epoch 22/80\n",
            "4332/4332 [==============================] - 1s 126us/sample - loss: 0.1218 - acc: 0.9735\n",
            "Epoch 23/80\n",
            "4332/4332 [==============================] - 1s 135us/sample - loss: 0.1347 - acc: 0.9658\n",
            "Epoch 24/80\n",
            "4332/4332 [==============================] - 1s 135us/sample - loss: 0.1270 - acc: 0.9730\n",
            "Epoch 25/80\n",
            "4332/4332 [==============================] - 1s 125us/sample - loss: 0.1357 - acc: 0.9624\n",
            "Epoch 26/80\n",
            "4332/4332 [==============================] - 1s 129us/sample - loss: 0.1118 - acc: 0.9762\n",
            "Epoch 27/80\n",
            "4332/4332 [==============================] - 1s 129us/sample - loss: 0.1311 - acc: 0.9628\n",
            "Epoch 28/80\n",
            "4332/4332 [==============================] - 1s 133us/sample - loss: 0.0996 - acc: 0.9815\n",
            "Epoch 29/80\n",
            "4332/4332 [==============================] - 1s 127us/sample - loss: 0.0942 - acc: 0.9825\n",
            "Epoch 30/80\n",
            "4332/4332 [==============================] - 1s 128us/sample - loss: 0.1158 - acc: 0.9711\n",
            "Epoch 31/80\n",
            "4332/4332 [==============================] - 1s 135us/sample - loss: 0.0987 - acc: 0.9781\n",
            "Epoch 32/80\n",
            "4332/4332 [==============================] - 1s 130us/sample - loss: 0.1193 - acc: 0.9705\n",
            "Epoch 33/80\n",
            "4332/4332 [==============================] - 1s 127us/sample - loss: 0.1285 - acc: 0.9677\n",
            "Epoch 34/80\n",
            "4332/4332 [==============================] - 1s 128us/sample - loss: 0.0892 - acc: 0.9811\n",
            "Epoch 35/80\n",
            "4332/4332 [==============================] - 1s 131us/sample - loss: 0.0883 - acc: 0.9811\n",
            "Epoch 36/80\n",
            "4332/4332 [==============================] - 1s 128us/sample - loss: 0.0873 - acc: 0.9818\n",
            "Epoch 37/80\n",
            "4332/4332 [==============================] - 1s 131us/sample - loss: 0.1081 - acc: 0.9728\n",
            "Epoch 38/80\n",
            "4332/4332 [==============================] - 1s 128us/sample - loss: 0.0817 - acc: 0.9808\n",
            "Epoch 39/80\n",
            "4332/4332 [==============================] - 1s 135us/sample - loss: 0.0869 - acc: 0.9806\n",
            "Epoch 40/80\n",
            "4332/4332 [==============================] - 1s 131us/sample - loss: 0.0832 - acc: 0.9834\n",
            "Epoch 41/80\n",
            "4332/4332 [==============================] - 1s 130us/sample - loss: 0.0800 - acc: 0.9827\n",
            "Epoch 42/80\n",
            "4332/4332 [==============================] - 1s 127us/sample - loss: 0.0624 - acc: 0.9901\n",
            "Epoch 43/80\n",
            "4332/4332 [==============================] - 1s 140us/sample - loss: 0.0864 - acc: 0.9785\n",
            "Epoch 44/80\n",
            "4332/4332 [==============================] - 1s 135us/sample - loss: 0.0890 - acc: 0.9771\n",
            "Epoch 45/80\n",
            "4332/4332 [==============================] - 1s 125us/sample - loss: 0.0665 - acc: 0.9878\n",
            "Epoch 46/80\n",
            "4332/4332 [==============================] - 1s 126us/sample - loss: 0.0751 - acc: 0.9818\n",
            "Epoch 47/80\n",
            "4332/4332 [==============================] - 1s 133us/sample - loss: 0.0673 - acc: 0.9861\n",
            "Epoch 48/80\n",
            "4332/4332 [==============================] - 1s 132us/sample - loss: 0.1077 - acc: 0.9691\n",
            "Epoch 49/80\n",
            "4332/4332 [==============================] - 1s 135us/sample - loss: 0.0800 - acc: 0.9797\n",
            "Epoch 50/80\n",
            "4332/4332 [==============================] - 1s 140us/sample - loss: 0.0546 - acc: 0.9892\n",
            "Epoch 51/80\n",
            "4332/4332 [==============================] - 1s 148us/sample - loss: 0.0640 - acc: 0.9875\n",
            "Epoch 52/80\n",
            "4332/4332 [==============================] - 1s 140us/sample - loss: 0.0792 - acc: 0.9806\n",
            "Epoch 53/80\n",
            "4332/4332 [==============================] - 1s 140us/sample - loss: 0.0695 - acc: 0.9852\n",
            "Epoch 54/80\n",
            "4332/4332 [==============================] - 1s 139us/sample - loss: 0.0613 - acc: 0.9885\n",
            "Epoch 55/80\n",
            "4332/4332 [==============================] - 1s 144us/sample - loss: 0.0624 - acc: 0.9864\n",
            "Epoch 56/80\n",
            "4332/4332 [==============================] - 1s 139us/sample - loss: 0.0449 - acc: 0.9942\n",
            "Epoch 57/80\n",
            "4332/4332 [==============================] - 1s 138us/sample - loss: 0.0512 - acc: 0.9910\n",
            "Epoch 58/80\n",
            "4332/4332 [==============================] - 1s 144us/sample - loss: 0.0593 - acc: 0.9885\n",
            "Epoch 59/80\n",
            "4332/4332 [==============================] - 1s 142us/sample - loss: 0.0959 - acc: 0.9728\n",
            "Epoch 60/80\n",
            "4332/4332 [==============================] - 1s 140us/sample - loss: 0.1114 - acc: 0.9665\n",
            "Epoch 61/80\n",
            "4332/4332 [==============================] - 1s 146us/sample - loss: 0.0550 - acc: 0.9875\n",
            "Epoch 62/80\n",
            "4332/4332 [==============================] - 1s 144us/sample - loss: 0.0522 - acc: 0.9871\n",
            "Epoch 63/80\n",
            "4332/4332 [==============================] - 1s 142us/sample - loss: 0.0410 - acc: 0.9933\n",
            "Epoch 64/80\n",
            "4332/4332 [==============================] - 1s 137us/sample - loss: 0.0393 - acc: 0.9935\n",
            "Epoch 65/80\n",
            "4332/4332 [==============================] - 1s 137us/sample - loss: 0.0457 - acc: 0.9928\n",
            "Epoch 66/80\n",
            "4332/4332 [==============================] - 1s 134us/sample - loss: 0.0368 - acc: 0.9949\n",
            "Epoch 67/80\n",
            "4332/4332 [==============================] - 1s 129us/sample - loss: 0.0805 - acc: 0.9765\n",
            "Epoch 68/80\n",
            "4332/4332 [==============================] - 1s 141us/sample - loss: 0.0690 - acc: 0.9811\n",
            "Epoch 69/80\n",
            "4332/4332 [==============================] - 1s 133us/sample - loss: 0.0601 - acc: 0.9845\n",
            "Epoch 70/80\n",
            "4332/4332 [==============================] - 1s 133us/sample - loss: 0.0371 - acc: 0.9924\n",
            "Epoch 71/80\n",
            "4332/4332 [==============================] - 1s 129us/sample - loss: 0.0511 - acc: 0.9885\n",
            "Epoch 72/80\n",
            "4332/4332 [==============================] - 1s 128us/sample - loss: 0.0454 - acc: 0.9905\n",
            "Epoch 73/80\n",
            "4332/4332 [==============================] - 1s 135us/sample - loss: 0.0359 - acc: 0.9935\n",
            "Epoch 74/80\n",
            "4332/4332 [==============================] - 1s 131us/sample - loss: 0.1023 - acc: 0.9693\n",
            "Epoch 75/80\n",
            "4332/4332 [==============================] - 1s 129us/sample - loss: 0.0624 - acc: 0.9813\n",
            "Epoch 76/80\n",
            "4332/4332 [==============================] - 1s 127us/sample - loss: 0.0351 - acc: 0.9928\n",
            "Epoch 77/80\n",
            "4332/4332 [==============================] - 1s 136us/sample - loss: 0.0651 - acc: 0.9829\n",
            "Epoch 78/80\n",
            "4332/4332 [==============================] - 1s 130us/sample - loss: 0.0393 - acc: 0.9917\n",
            "Epoch 79/80\n",
            "4332/4332 [==============================] - 1s 130us/sample - loss: 0.0826 - acc: 0.9774\n",
            "Epoch 80/80\n",
            "4332/4332 [==============================] - 1s 127us/sample - loss: 0.0366 - acc: 0.9928\n"
          ],
          "name": "stdout"
        },
        {
          "output_type": "execute_result",
          "data": {
            "text/plain": [
              "<tensorflow.python.keras.callbacks.History at 0x7f227a2b0668>"
            ]
          },
          "metadata": {
            "tags": []
          },
          "execution_count": 38
        }
      ]
    },
    {
      "metadata": {
        "id": "HaQhBfRhZK80",
        "colab_type": "code",
        "colab": {
          "base_uri": "https://localhost:8080/",
          "height": 35
        },
        "outputId": "f1c2e8e6-616b-40e1-8ce0-2dce209e42c2"
      },
      "cell_type": "code",
      "source": [
        "# Saving model\n",
        "model.save('my_model.h5')"
      ],
      "execution_count": 35,
      "outputs": [
        {
          "output_type": "stream",
          "text": [
            "Using TensorFlow backend.\n"
          ],
          "name": "stderr"
        }
      ]
    },
    {
      "metadata": {
        "id": "LC0nrLbEaPZo",
        "colab_type": "code",
        "colab": {}
      },
      "cell_type": "code",
      "source": [
        "# saving model to drive\n",
        "from google.colab import files\n",
        "files.download('my_model.h5')"
      ],
      "execution_count": 0,
      "outputs": []
    },
    {
      "metadata": {
        "id": "JCRB-rVcaWSF",
        "colab_type": "code",
        "colab": {
          "base_uri": "https://localhost:8080/",
          "height": 128
        },
        "outputId": "1a9f9e9e-0533-47ae-dd25-28f898ade45e"
      },
      "cell_type": "code",
      "source": [
        "!pip install -U -q PyDrive\n",
        "!git clone https://gist.github.com/dc7e60aa487430ea704a8cb3f2c5d6a6.git /tmp/colab_util_repo\n",
        "!mv /tmp/colab_util_repo/colab_util.py colab_util.py \n",
        "!rm -r /tmp/colab_util_repo\n",
        "from colab_util import *\n",
        "drive_handler = GoogleDriveHandler()"
      ],
      "execution_count": 42,
      "outputs": [
        {
          "output_type": "stream",
          "text": [
            "\u001b[?25l\r\u001b[K    1% |▎                               | 10kB 19.8MB/s eta 0:00:01\r\u001b[K    2% |▋                               | 20kB 1.1MB/s eta 0:00:01\r\u001b[K    3% |█                               | 30kB 1.6MB/s eta 0:00:01\r\u001b[K    4% |█▎                              | 40kB 1.0MB/s eta 0:00:01\r\u001b[K    5% |█▋                              | 51kB 1.3MB/s eta 0:00:01\r\u001b[K    6% |██                              | 61kB 1.6MB/s eta 0:00:01\r\u001b[K    7% |██▎                             | 71kB 1.8MB/s eta 0:00:01\r\u001b[K    8% |██▋                             | 81kB 2.0MB/s eta 0:00:01\r\u001b[K    9% |███                             | 92kB 2.3MB/s eta 0:00:01\r\u001b[K    10% |███▎                            | 102kB 1.7MB/s eta 0:00:01\r\u001b[K    11% |███▋                            | 112kB 1.7MB/s eta 0:00:01\r\u001b[K    12% |████                            | 122kB 2.5MB/s eta 0:00:01\r\u001b[K    13% |████▎                           | 133kB 2.5MB/s eta 0:00:01\r\u001b[K    14% |████▋                           | 143kB 4.9MB/s eta 0:00:01\r\u001b[K    15% |█████                           | 153kB 4.9MB/s eta 0:00:01\r\u001b[K    16% |█████▎                          | 163kB 4.9MB/s eta 0:00:01\r\u001b[K    17% |█████▋                          | 174kB 4.9MB/s eta 0:00:01\r\u001b[K    18% |██████                          | 184kB 4.9MB/s eta 0:00:01\r\u001b[K    19% |██████▎                         | 194kB 4.9MB/s eta 0:00:01\r\u001b[K    20% |██████▋                         | 204kB 43.7MB/s eta 0:00:01\r\u001b[K    21% |███████                         | 215kB 5.2MB/s eta 0:00:01\r\u001b[K    22% |███████▎                        | 225kB 5.2MB/s eta 0:00:01\r\u001b[K    23% |███████▋                        | 235kB 5.2MB/s eta 0:00:01\r\u001b[K    24% |████████                        | 245kB 5.2MB/s eta 0:00:01\r\u001b[K    25% |████████▎                       | 256kB 5.2MB/s eta 0:00:01\r\u001b[K    26% |████████▋                       | 266kB 5.1MB/s eta 0:00:01\r\u001b[K    27% |█████████                       | 276kB 5.2MB/s eta 0:00:01\r\u001b[K    29% |█████████▎                      | 286kB 5.2MB/s eta 0:00:01\r\u001b[K    30% |█████████▋                      | 296kB 5.2MB/s eta 0:00:01\r\u001b[K    31% |██████████                      | 307kB 5.3MB/s eta 0:00:01\r\u001b[K    32% |██████████▎                     | 317kB 51.6MB/s eta 0:00:01\r\u001b[K    33% |██████████▋                     | 327kB 52.9MB/s eta 0:00:01\r\u001b[K    34% |███████████                     | 337kB 54.3MB/s eta 0:00:01\r\u001b[K    35% |███████████▎                    | 348kB 48.8MB/s eta 0:00:01\r\u001b[K    36% |███████████▋                    | 358kB 48.4MB/s eta 0:00:01\r\u001b[K    37% |████████████                    | 368kB 58.4MB/s eta 0:00:01\r\u001b[K    38% |████████████▎                   | 378kB 59.7MB/s eta 0:00:01\r\u001b[K    39% |████████████▋                   | 389kB 60.5MB/s eta 0:00:01\r\u001b[K    40% |█████████████                   | 399kB 5.6MB/s eta 0:00:01\r\u001b[K    41% |█████████████▎                  | 409kB 5.5MB/s eta 0:00:01\r\u001b[K    42% |█████████████▋                  | 419kB 5.5MB/s eta 0:00:01\r\u001b[K    43% |██████████████                  | 430kB 5.5MB/s eta 0:00:01\r\u001b[K    44% |██████████████▎                 | 440kB 5.5MB/s eta 0:00:01\r\u001b[K    45% |██████████████▋                 | 450kB 5.5MB/s eta 0:00:01\r\u001b[K    46% |███████████████                 | 460kB 5.5MB/s eta 0:00:01\r\u001b[K    47% |███████████████▎                | 471kB 5.5MB/s eta 0:00:01\r\u001b[K    48% |███████████████▋                | 481kB 5.5MB/s eta 0:00:01\r\u001b[K    49% |████████████████                | 491kB 5.5MB/s eta 0:00:01\r\u001b[K    50% |████████████████▎               | 501kB 53.2MB/s eta 0:00:01\r\u001b[K    51% |████████████████▋               | 512kB 50.1MB/s eta 0:00:01\r\u001b[K    52% |█████████████████               | 522kB 50.3MB/s eta 0:00:01\r\u001b[K    53% |█████████████████▎              | 532kB 52.3MB/s eta 0:00:01\r\u001b[K    54% |█████████████████▋              | 542kB 53.6MB/s eta 0:00:01\r\u001b[K    55% |██████████████████              | 552kB 62.4MB/s eta 0:00:01\r\u001b[K    57% |██████████████████▎             | 563kB 64.9MB/s eta 0:00:01\r\u001b[K    58% |██████████████████▋             | 573kB 64.7MB/s eta 0:00:01\r\u001b[K    59% |███████████████████             | 583kB 65.4MB/s eta 0:00:01\r\u001b[K    60% |███████████████████▎            | 593kB 65.4MB/s eta 0:00:01\r\u001b[K    61% |███████████████████▋            | 604kB 65.4MB/s eta 0:00:01\r\u001b[K    62% |████████████████████            | 614kB 76.4MB/s eta 0:00:01\r\u001b[K    63% |████████████████████▎           | 624kB 78.3MB/s eta 0:00:01\r\u001b[K    64% |████████████████████▋           | 634kB 78.4MB/s eta 0:00:01\r\u001b[K    65% |█████████████████████           | 645kB 78.3MB/s eta 0:00:01\r\u001b[K    66% |█████████████████████▎          | 655kB 78.1MB/s eta 0:00:01\r\u001b[K    67% |█████████████████████▋          | 665kB 52.0MB/s eta 0:00:01\r\u001b[K    68% |██████████████████████          | 675kB 51.0MB/s eta 0:00:01\r\u001b[K    69% |██████████████████████▎         | 686kB 50.2MB/s eta 0:00:01\r\u001b[K    70% |██████████████████████▋         | 696kB 49.9MB/s eta 0:00:01\r\u001b[K    71% |███████████████████████         | 706kB 49.5MB/s eta 0:00:01\r\u001b[K    72% |███████████████████████▎        | 716kB 49.8MB/s eta 0:00:01\r\u001b[K    73% |███████████████████████▋        | 727kB 49.5MB/s eta 0:00:01\r\u001b[K    74% |████████████████████████        | 737kB 6.4MB/s eta 0:00:01\r\u001b[K    75% |████████████████████████▎       | 747kB 6.4MB/s eta 0:00:01\r\u001b[K    76% |████████████████████████▋       | 757kB 6.3MB/s eta 0:00:01\r\u001b[K    77% |████████████████████████▉       | 768kB 6.6MB/s eta 0:00:01\r\u001b[K    78% |█████████████████████████▏      | 778kB 6.6MB/s eta 0:00:01\r\u001b[K    79% |█████████████████████████▌      | 788kB 6.6MB/s eta 0:00:01\r\u001b[K    80% |█████████████████████████▉      | 798kB 6.6MB/s eta 0:00:01\r\u001b[K    81% |██████████████████████████▏     | 808kB 6.6MB/s eta 0:00:01\r\u001b[K    82% |██████████████████████████▌     | 819kB 6.6MB/s eta 0:00:01\r\u001b[K    83% |██████████████████████████▉     | 829kB 6.6MB/s eta 0:00:01\r\u001b[K    85% |███████████████████████████▏    | 839kB 67.8MB/s eta 0:00:01\r\u001b[K    86% |███████████████████████████▌    | 849kB 70.5MB/s eta 0:00:01\r\u001b[K    87% |███████████████████████████▉    | 860kB 60.6MB/s eta 0:00:01\r\u001b[K    88% |████████████████████████████▏   | 870kB 60.2MB/s eta 0:00:01\r\u001b[K    89% |████████████████████████████▌   | 880kB 62.0MB/s eta 0:00:01\r\u001b[K    90% |████████████████████████████▉   | 890kB 62.0MB/s eta 0:00:01\r\u001b[K    91% |█████████████████████████████▏  | 901kB 62.4MB/s eta 0:00:01\r\u001b[K    92% |█████████████████████████████▌  | 911kB 63.0MB/s eta 0:00:01\r\u001b[K    93% |█████████████████████████████▉  | 921kB 62.9MB/s eta 0:00:01\r\u001b[K    94% |██████████████████████████████▏ | 931kB 62.9MB/s eta 0:00:01\r\u001b[K    95% |██████████████████████████████▌ | 942kB 63.9MB/s eta 0:00:01\r\u001b[K    96% |██████████████████████████████▉ | 952kB 62.1MB/s eta 0:00:01\r\u001b[K    97% |███████████████████████████████▏| 962kB 74.2MB/s eta 0:00:01\r\u001b[K    98% |███████████████████████████████▌| 972kB 76.4MB/s eta 0:00:01\r\u001b[K    99% |███████████████████████████████▉| 983kB 75.5MB/s eta 0:00:01\r\u001b[K    100% |████████████████████████████████| 993kB 19.7MB/s \n",
            "\u001b[?25h  Building wheel for PyDrive (setup.py) ... \u001b[?25ldone\n",
            "\u001b[?25hCloning into '/tmp/colab_util_repo'...\n",
            "remote: Enumerating objects: 40, done.\u001b[K\n",
            "remote: Total 40 (delta 0), reused 0 (delta 0), pack-reused 40\u001b[K\n",
            "Unpacking objects: 100% (40/40), done.\n"
          ],
          "name": "stdout"
        }
      ]
    },
    {
      "metadata": {
        "id": "QF7QDNehd2GT",
        "colab_type": "code",
        "colab": {
          "base_uri": "https://localhost:8080/",
          "height": 54
        },
        "outputId": "a3f16cb2-94a4-4dfe-f4a2-287047c9b421"
      },
      "cell_type": "code",
      "source": [
        "test_folder_id = drive_handler.create_folder('models/flower')\n",
        "test_folder_id\n",
        "\n",
        "drive_handler.upload('my_model.h5', parent_path='models/flower')\n",
        "drive_handler.list_folder(test_folder_id, max_depth=1)"
      ],
      "execution_count": 50,
      "outputs": [
        {
          "output_type": "stream",
          "text": [
            "models/flower already exists\n"
          ],
          "name": "stdout"
        },
        {
          "output_type": "execute_result",
          "data": {
            "text/plain": [
              "[]"
            ]
          },
          "metadata": {
            "tags": []
          },
          "execution_count": 50
        }
      ]
    },
    {
      "metadata": {
        "id": "fO0L22Sqeh0M",
        "colab_type": "code",
        "colab": {}
      },
      "cell_type": "code",
      "source": [
        ""
      ],
      "execution_count": 0,
      "outputs": []
    }
  ]
}